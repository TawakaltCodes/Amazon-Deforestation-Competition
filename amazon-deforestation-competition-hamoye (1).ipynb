{
 "cells": [
  {
   "cell_type": "code",
   "execution_count": null,
   "id": "4597c880",
   "metadata": {
    "_cell_guid": "b1076dfc-b9ad-4769-8c92-a6c4dae69d19",
    "_uuid": "8f2839f25d086af736a60e9eeb907d3b93b6e0e5",
    "execution": {
     "iopub.execute_input": "2024-06-04T19:59:04.242881Z",
     "iopub.status.busy": "2024-06-04T19:59:04.241313Z"
    },
    "papermill": {
     "duration": 0.006271,
     "end_time": "2024-06-04T22:44:47.327392",
     "exception": false,
     "start_time": "2024-06-04T22:44:47.321121",
     "status": "completed"
    },
    "tags": []
   },
   "outputs": [],
   "source": []
  },
  {
   "cell_type": "code",
   "execution_count": 1,
   "id": "0e74089a",
   "metadata": {
    "execution": {
     "iopub.execute_input": "2024-06-04T22:44:47.341278Z",
     "iopub.status.busy": "2024-06-04T22:44:47.340446Z",
     "iopub.status.idle": "2024-06-04T22:45:03.093074Z",
     "shell.execute_reply": "2024-06-04T22:45:03.092039Z"
    },
    "papermill": {
     "duration": 15.762315,
     "end_time": "2024-06-04T22:45:03.095584",
     "exception": false,
     "start_time": "2024-06-04T22:44:47.333269",
     "status": "completed"
    },
    "tags": []
   },
   "outputs": [
    {
     "name": "stderr",
     "output_type": "stream",
     "text": [
      "2024-06-04 22:44:50.235251: E external/local_xla/xla/stream_executor/cuda/cuda_dnn.cc:9261] Unable to register cuDNN factory: Attempting to register factory for plugin cuDNN when one has already been registered\n",
      "2024-06-04 22:44:50.235380: E external/local_xla/xla/stream_executor/cuda/cuda_fft.cc:607] Unable to register cuFFT factory: Attempting to register factory for plugin cuFFT when one has already been registered\n",
      "2024-06-04 22:44:50.379982: E external/local_xla/xla/stream_executor/cuda/cuda_blas.cc:1515] Unable to register cuBLAS factory: Attempting to register factory for plugin cuBLAS when one has already been registered\n"
     ]
    },
    {
     "data": {
      "text/plain": [
       "['planet', 'test-jpg-additional']"
      ]
     },
     "execution_count": 1,
     "metadata": {},
     "output_type": "execute_result"
    }
   ],
   "source": [
    "import pandas as pd\n",
    "import numpy as np\n",
    "import matplotlib.pyplot as plt\n",
    "\n",
    "import os\n",
    "import gc\n",
    "\n",
    "import tensorflow as tf\n",
    "from tensorflow import keras\n",
    "from tensorflow.keras import datasets, layers, models\n",
    "from keras.layers import Dense, Dropout, Conv2D, MaxPooling2D, Flatten, GlobalMaxPooling2D, BatchNormalization\n",
    "from keras.utils import to_categorical\n",
    "from keras.regularizers import l2\n",
    "from tensorflow.keras.models import Sequential \n",
    "\n",
    "from tensorflow.keras.preprocessing.image import ImageDataGenerator\n",
    "\n",
    "import keras as k\n",
    "from keras import backend as K\n",
    "from keras.models import Sequential\n",
    "\n",
    "import cv2\n",
    "from tqdm import tqdm\n",
    "from collections import Counter\n",
    "\n",
    "from sklearn.utils import shuffle\n",
    "from sklearn.model_selection import train_test_split\n",
    "from sklearn.metrics import fbeta_score\n",
    "\n",
    "import plotly.express as px\n",
    "\n",
    "path = '../input/planets-dataset/'\n",
    "os.listdir(path)"
   ]
  },
  {
   "cell_type": "code",
   "execution_count": 2,
   "id": "a9bac03a",
   "metadata": {
    "execution": {
     "iopub.execute_input": "2024-06-04T22:45:03.109878Z",
     "iopub.status.busy": "2024-06-04T22:45:03.108687Z",
     "iopub.status.idle": "2024-06-04T22:45:03.113875Z",
     "shell.execute_reply": "2024-06-04T22:45:03.112928Z"
    },
    "papermill": {
     "duration": 0.014283,
     "end_time": "2024-06-04T22:45:03.115913",
     "exception": false,
     "start_time": "2024-06-04T22:45:03.101630",
     "status": "completed"
    },
    "tags": []
   },
   "outputs": [],
   "source": [
    "#Loading the image datasets\n",
    "train_path = '../kaggle/input/planets-dataset/planet/planet/train_classes.csv'\n",
    "test_path = '../kaggle/input/planets-dataset/planet/planet/sample_submission.csv'\n",
    "train_images = '../input/planets-dataset/planet/planet/train-jpg'\n",
    "test_images = ',,/input/planets-dataset/planet/planet/test-jpg'\n"
   ]
  },
  {
   "cell_type": "code",
   "execution_count": 3,
   "id": "f6a5e934",
   "metadata": {
    "execution": {
     "iopub.execute_input": "2024-06-04T22:45:03.129972Z",
     "iopub.status.busy": "2024-06-04T22:45:03.129184Z",
     "iopub.status.idle": "2024-06-04T22:45:03.133627Z",
     "shell.execute_reply": "2024-06-04T22:45:03.132606Z"
    },
    "papermill": {
     "duration": 0.01355,
     "end_time": "2024-06-04T22:45:03.135633",
     "exception": false,
     "start_time": "2024-06-04T22:45:03.122083",
     "status": "completed"
    },
    "tags": []
   },
   "outputs": [],
   "source": [
    "#train_path = '/kaggle/input/planet-understanding-the-amazon-from-space/train_v2.csv/train_v2.csv'\n",
    "#test_path = '/kaggle/input/planet-understanding-the-amazon-from-space/test_v2_file_mapping.csv/test_v2_file_mapping.csv'\n",
    "#submission_path = '/kaggle/input/planet-understanding-the-amazon-from-space/sample_submission_v2.csv/sample_submission_v2.csv'"
   ]
  },
  {
   "cell_type": "code",
   "execution_count": 4,
   "id": "b6887a78",
   "metadata": {
    "execution": {
     "iopub.execute_input": "2024-06-04T22:45:03.149321Z",
     "iopub.status.busy": "2024-06-04T22:45:03.148559Z",
     "iopub.status.idle": "2024-06-04T22:45:03.291136Z",
     "shell.execute_reply": "2024-06-04T22:45:03.290120Z"
    },
    "papermill": {
     "duration": 0.152022,
     "end_time": "2024-06-04T22:45:03.293601",
     "exception": false,
     "start_time": "2024-06-04T22:45:03.141579",
     "status": "completed"
    },
    "tags": []
   },
   "outputs": [],
   "source": [
    "train_df = pd.read_csv('/kaggle/input/planets-dataset/planet/planet/train_classes.csv')\n",
    "test_df = pd.read_csv('/kaggle/input/planets-dataset/planet/planet/sample_submission.csv')\n",
    "\n"
   ]
  },
  {
   "cell_type": "code",
   "execution_count": 5,
   "id": "19db0c7d",
   "metadata": {
    "execution": {
     "iopub.execute_input": "2024-06-04T22:45:03.307227Z",
     "iopub.status.busy": "2024-06-04T22:45:03.306808Z",
     "iopub.status.idle": "2024-06-04T22:45:03.326564Z",
     "shell.execute_reply": "2024-06-04T22:45:03.325634Z"
    },
    "papermill": {
     "duration": 0.029003,
     "end_time": "2024-06-04T22:45:03.328704",
     "exception": false,
     "start_time": "2024-06-04T22:45:03.299701",
     "status": "completed"
    },
    "tags": []
   },
   "outputs": [
    {
     "data": {
      "text/html": [
       "<div>\n",
       "<style scoped>\n",
       "    .dataframe tbody tr th:only-of-type {\n",
       "        vertical-align: middle;\n",
       "    }\n",
       "\n",
       "    .dataframe tbody tr th {\n",
       "        vertical-align: top;\n",
       "    }\n",
       "\n",
       "    .dataframe thead th {\n",
       "        text-align: right;\n",
       "    }\n",
       "</style>\n",
       "<table border=\"1\" class=\"dataframe\">\n",
       "  <thead>\n",
       "    <tr style=\"text-align: right;\">\n",
       "      <th></th>\n",
       "      <th>image_name</th>\n",
       "      <th>tags</th>\n",
       "    </tr>\n",
       "  </thead>\n",
       "  <tbody>\n",
       "    <tr>\n",
       "      <th>0</th>\n",
       "      <td>train_0</td>\n",
       "      <td>haze primary</td>\n",
       "    </tr>\n",
       "    <tr>\n",
       "      <th>1</th>\n",
       "      <td>train_1</td>\n",
       "      <td>agriculture clear primary water</td>\n",
       "    </tr>\n",
       "    <tr>\n",
       "      <th>2</th>\n",
       "      <td>train_2</td>\n",
       "      <td>clear primary</td>\n",
       "    </tr>\n",
       "    <tr>\n",
       "      <th>3</th>\n",
       "      <td>train_3</td>\n",
       "      <td>clear primary</td>\n",
       "    </tr>\n",
       "    <tr>\n",
       "      <th>4</th>\n",
       "      <td>train_4</td>\n",
       "      <td>agriculture clear habitation primary road</td>\n",
       "    </tr>\n",
       "  </tbody>\n",
       "</table>\n",
       "</div>"
      ],
      "text/plain": [
       "  image_name                                       tags\n",
       "0    train_0                               haze primary\n",
       "1    train_1            agriculture clear primary water\n",
       "2    train_2                              clear primary\n",
       "3    train_3                              clear primary\n",
       "4    train_4  agriculture clear habitation primary road"
      ]
     },
     "execution_count": 5,
     "metadata": {},
     "output_type": "execute_result"
    }
   ],
   "source": [
    "train_df.head()"
   ]
  },
  {
   "cell_type": "code",
   "execution_count": 6,
   "id": "b5dd0d06",
   "metadata": {
    "execution": {
     "iopub.execute_input": "2024-06-04T22:45:03.342210Z",
     "iopub.status.busy": "2024-06-04T22:45:03.341847Z",
     "iopub.status.idle": "2024-06-04T22:45:03.351252Z",
     "shell.execute_reply": "2024-06-04T22:45:03.350265Z"
    },
    "papermill": {
     "duration": 0.018483,
     "end_time": "2024-06-04T22:45:03.353358",
     "exception": false,
     "start_time": "2024-06-04T22:45:03.334875",
     "status": "completed"
    },
    "tags": []
   },
   "outputs": [
    {
     "data": {
      "text/html": [
       "<div>\n",
       "<style scoped>\n",
       "    .dataframe tbody tr th:only-of-type {\n",
       "        vertical-align: middle;\n",
       "    }\n",
       "\n",
       "    .dataframe tbody tr th {\n",
       "        vertical-align: top;\n",
       "    }\n",
       "\n",
       "    .dataframe thead th {\n",
       "        text-align: right;\n",
       "    }\n",
       "</style>\n",
       "<table border=\"1\" class=\"dataframe\">\n",
       "  <thead>\n",
       "    <tr style=\"text-align: right;\">\n",
       "      <th></th>\n",
       "      <th>image_name</th>\n",
       "      <th>tags</th>\n",
       "    </tr>\n",
       "  </thead>\n",
       "  <tbody>\n",
       "    <tr>\n",
       "      <th>0</th>\n",
       "      <td>test_0</td>\n",
       "      <td>primary clear agriculture road water</td>\n",
       "    </tr>\n",
       "    <tr>\n",
       "      <th>1</th>\n",
       "      <td>test_1</td>\n",
       "      <td>primary clear agriculture road water</td>\n",
       "    </tr>\n",
       "    <tr>\n",
       "      <th>2</th>\n",
       "      <td>test_2</td>\n",
       "      <td>primary clear agriculture road water</td>\n",
       "    </tr>\n",
       "    <tr>\n",
       "      <th>3</th>\n",
       "      <td>test_3</td>\n",
       "      <td>primary clear agriculture road water</td>\n",
       "    </tr>\n",
       "    <tr>\n",
       "      <th>4</th>\n",
       "      <td>test_4</td>\n",
       "      <td>primary clear agriculture road water</td>\n",
       "    </tr>\n",
       "  </tbody>\n",
       "</table>\n",
       "</div>"
      ],
      "text/plain": [
       "  image_name                                  tags\n",
       "0     test_0  primary clear agriculture road water\n",
       "1     test_1  primary clear agriculture road water\n",
       "2     test_2  primary clear agriculture road water\n",
       "3     test_3  primary clear agriculture road water\n",
       "4     test_4  primary clear agriculture road water"
      ]
     },
     "execution_count": 6,
     "metadata": {},
     "output_type": "execute_result"
    }
   ],
   "source": [
    "test_df.head()"
   ]
  },
  {
   "cell_type": "code",
   "execution_count": null,
   "id": "aeb3cbbb",
   "metadata": {
    "papermill": {
     "duration": 0.006171,
     "end_time": "2024-06-04T22:45:03.365876",
     "exception": false,
     "start_time": "2024-06-04T22:45:03.359705",
     "status": "completed"
    },
    "tags": []
   },
   "outputs": [],
   "source": []
  },
  {
   "cell_type": "code",
   "execution_count": 7,
   "id": "5cc9f08a",
   "metadata": {
    "execution": {
     "iopub.execute_input": "2024-06-04T22:45:03.380463Z",
     "iopub.status.busy": "2024-06-04T22:45:03.379533Z",
     "iopub.status.idle": "2024-06-04T22:45:03.385148Z",
     "shell.execute_reply": "2024-06-04T22:45:03.384135Z"
    },
    "papermill": {
     "duration": 0.015024,
     "end_time": "2024-06-04T22:45:03.387196",
     "exception": false,
     "start_time": "2024-06-04T22:45:03.372172",
     "status": "completed"
    },
    "tags": []
   },
   "outputs": [
    {
     "name": "stdout",
     "output_type": "stream",
     "text": [
      "(40479, 2)\n",
      "(61191, 2)\n"
     ]
    }
   ],
   "source": [
    "print (train_df.shape)\n",
    "print (test_df.shape)\n"
   ]
  },
  {
   "cell_type": "code",
   "execution_count": 8,
   "id": "03ad1201",
   "metadata": {
    "execution": {
     "iopub.execute_input": "2024-06-04T22:45:03.401778Z",
     "iopub.status.busy": "2024-06-04T22:45:03.400898Z",
     "iopub.status.idle": "2024-06-04T22:45:03.441564Z",
     "shell.execute_reply": "2024-06-04T22:45:03.440527Z"
    },
    "papermill": {
     "duration": 0.050454,
     "end_time": "2024-06-04T22:45:03.444024",
     "exception": false,
     "start_time": "2024-06-04T22:45:03.393570",
     "status": "completed"
    },
    "tags": []
   },
   "outputs": [],
   "source": [
    "label_list = []\n",
    "for tag_split in train_df.tags.to_numpy():\n",
    "    labels = tag_split.split(' ')\n",
    "    for label in labels:\n",
    "        if label not in label_list:\n",
    "            label_list.append(label)"
   ]
  },
  {
   "cell_type": "code",
   "execution_count": 9,
   "id": "5ed3005d",
   "metadata": {
    "execution": {
     "iopub.execute_input": "2024-06-04T22:45:03.458619Z",
     "iopub.status.busy": "2024-06-04T22:45:03.458258Z",
     "iopub.status.idle": "2024-06-04T22:45:03.463532Z",
     "shell.execute_reply": "2024-06-04T22:45:03.462470Z"
    },
    "papermill": {
     "duration": 0.015335,
     "end_time": "2024-06-04T22:45:03.465816",
     "exception": false,
     "start_time": "2024-06-04T22:45:03.450481",
     "status": "completed"
    },
    "tags": []
   },
   "outputs": [
    {
     "name": "stdout",
     "output_type": "stream",
     "text": [
      "17\n"
     ]
    }
   ],
   "source": [
    "print(len(label_list))"
   ]
  },
  {
   "cell_type": "code",
   "execution_count": 10,
   "id": "32485c81",
   "metadata": {
    "execution": {
     "iopub.execute_input": "2024-06-04T22:45:03.480630Z",
     "iopub.status.busy": "2024-06-04T22:45:03.480260Z",
     "iopub.status.idle": "2024-06-04T22:45:03.487064Z",
     "shell.execute_reply": "2024-06-04T22:45:03.486122Z"
    },
    "papermill": {
     "duration": 0.016761,
     "end_time": "2024-06-04T22:45:03.489183",
     "exception": false,
     "start_time": "2024-06-04T22:45:03.472422",
     "status": "completed"
    },
    "tags": []
   },
   "outputs": [
    {
     "data": {
      "text/plain": [
       "{0: 'haze',\n",
       " 1: 'primary',\n",
       " 2: 'agriculture',\n",
       " 3: 'clear',\n",
       " 4: 'water',\n",
       " 5: 'habitation',\n",
       " 6: 'road',\n",
       " 7: 'cultivation',\n",
       " 8: 'slash_burn',\n",
       " 9: 'cloudy',\n",
       " 10: 'partly_cloudy',\n",
       " 11: 'conventional_mine',\n",
       " 12: 'bare_ground',\n",
       " 13: 'artisinal_mine',\n",
       " 14: 'blooming',\n",
       " 15: 'selective_logging',\n",
       " 16: 'blow_down'}"
      ]
     },
     "execution_count": 10,
     "metadata": {},
     "output_type": "execute_result"
    }
   ],
   "source": [
    "labels_dict = dict(zip(range(0,17), label_list))\n",
    "labels_dict"
   ]
  },
  {
   "cell_type": "code",
   "execution_count": 11,
   "id": "d4313995",
   "metadata": {
    "execution": {
     "iopub.execute_input": "2024-06-04T22:45:03.503746Z",
     "iopub.status.busy": "2024-06-04T22:45:03.503383Z",
     "iopub.status.idle": "2024-06-04T22:45:03.986154Z",
     "shell.execute_reply": "2024-06-04T22:45:03.985201Z"
    },
    "papermill": {
     "duration": 0.492548,
     "end_time": "2024-06-04T22:45:03.988269",
     "exception": false,
     "start_time": "2024-06-04T22:45:03.495721",
     "status": "completed"
    },
    "tags": []
   },
   "outputs": [
    {
     "data": {
      "text/html": [
       "<div>\n",
       "<style scoped>\n",
       "    .dataframe tbody tr th:only-of-type {\n",
       "        vertical-align: middle;\n",
       "    }\n",
       "\n",
       "    .dataframe tbody tr th {\n",
       "        vertical-align: top;\n",
       "    }\n",
       "\n",
       "    .dataframe thead th {\n",
       "        text-align: right;\n",
       "    }\n",
       "</style>\n",
       "<table border=\"1\" class=\"dataframe\">\n",
       "  <thead>\n",
       "    <tr style=\"text-align: right;\">\n",
       "      <th></th>\n",
       "      <th>image_name</th>\n",
       "      <th>tags</th>\n",
       "      <th>haze</th>\n",
       "      <th>primary</th>\n",
       "      <th>agriculture</th>\n",
       "      <th>clear</th>\n",
       "      <th>water</th>\n",
       "      <th>habitation</th>\n",
       "      <th>road</th>\n",
       "      <th>cultivation</th>\n",
       "      <th>slash_burn</th>\n",
       "      <th>cloudy</th>\n",
       "      <th>partly_cloudy</th>\n",
       "      <th>conventional_mine</th>\n",
       "      <th>bare_ground</th>\n",
       "      <th>artisinal_mine</th>\n",
       "      <th>blooming</th>\n",
       "      <th>selective_logging</th>\n",
       "      <th>blow_down</th>\n",
       "    </tr>\n",
       "  </thead>\n",
       "  <tbody>\n",
       "    <tr>\n",
       "      <th>0</th>\n",
       "      <td>train_0</td>\n",
       "      <td>haze primary</td>\n",
       "      <td>1</td>\n",
       "      <td>1</td>\n",
       "      <td>0</td>\n",
       "      <td>0</td>\n",
       "      <td>0</td>\n",
       "      <td>0</td>\n",
       "      <td>0</td>\n",
       "      <td>0</td>\n",
       "      <td>0</td>\n",
       "      <td>0</td>\n",
       "      <td>0</td>\n",
       "      <td>0</td>\n",
       "      <td>0</td>\n",
       "      <td>0</td>\n",
       "      <td>0</td>\n",
       "      <td>0</td>\n",
       "      <td>0</td>\n",
       "    </tr>\n",
       "    <tr>\n",
       "      <th>1</th>\n",
       "      <td>train_1</td>\n",
       "      <td>agriculture clear primary water</td>\n",
       "      <td>0</td>\n",
       "      <td>1</td>\n",
       "      <td>1</td>\n",
       "      <td>1</td>\n",
       "      <td>1</td>\n",
       "      <td>0</td>\n",
       "      <td>0</td>\n",
       "      <td>0</td>\n",
       "      <td>0</td>\n",
       "      <td>0</td>\n",
       "      <td>0</td>\n",
       "      <td>0</td>\n",
       "      <td>0</td>\n",
       "      <td>0</td>\n",
       "      <td>0</td>\n",
       "      <td>0</td>\n",
       "      <td>0</td>\n",
       "    </tr>\n",
       "    <tr>\n",
       "      <th>2</th>\n",
       "      <td>train_2</td>\n",
       "      <td>clear primary</td>\n",
       "      <td>0</td>\n",
       "      <td>1</td>\n",
       "      <td>0</td>\n",
       "      <td>1</td>\n",
       "      <td>0</td>\n",
       "      <td>0</td>\n",
       "      <td>0</td>\n",
       "      <td>0</td>\n",
       "      <td>0</td>\n",
       "      <td>0</td>\n",
       "      <td>0</td>\n",
       "      <td>0</td>\n",
       "      <td>0</td>\n",
       "      <td>0</td>\n",
       "      <td>0</td>\n",
       "      <td>0</td>\n",
       "      <td>0</td>\n",
       "    </tr>\n",
       "    <tr>\n",
       "      <th>3</th>\n",
       "      <td>train_3</td>\n",
       "      <td>clear primary</td>\n",
       "      <td>0</td>\n",
       "      <td>1</td>\n",
       "      <td>0</td>\n",
       "      <td>1</td>\n",
       "      <td>0</td>\n",
       "      <td>0</td>\n",
       "      <td>0</td>\n",
       "      <td>0</td>\n",
       "      <td>0</td>\n",
       "      <td>0</td>\n",
       "      <td>0</td>\n",
       "      <td>0</td>\n",
       "      <td>0</td>\n",
       "      <td>0</td>\n",
       "      <td>0</td>\n",
       "      <td>0</td>\n",
       "      <td>0</td>\n",
       "    </tr>\n",
       "    <tr>\n",
       "      <th>4</th>\n",
       "      <td>train_4</td>\n",
       "      <td>agriculture clear habitation primary road</td>\n",
       "      <td>0</td>\n",
       "      <td>1</td>\n",
       "      <td>1</td>\n",
       "      <td>1</td>\n",
       "      <td>0</td>\n",
       "      <td>1</td>\n",
       "      <td>1</td>\n",
       "      <td>0</td>\n",
       "      <td>0</td>\n",
       "      <td>0</td>\n",
       "      <td>0</td>\n",
       "      <td>0</td>\n",
       "      <td>0</td>\n",
       "      <td>0</td>\n",
       "      <td>0</td>\n",
       "      <td>0</td>\n",
       "      <td>0</td>\n",
       "    </tr>\n",
       "  </tbody>\n",
       "</table>\n",
       "</div>"
      ],
      "text/plain": [
       "  image_name                                       tags  haze  primary  \\\n",
       "0    train_0                               haze primary     1        1   \n",
       "1    train_1            agriculture clear primary water     0        1   \n",
       "2    train_2                              clear primary     0        1   \n",
       "3    train_3                              clear primary     0        1   \n",
       "4    train_4  agriculture clear habitation primary road     0        1   \n",
       "\n",
       "   agriculture  clear  water  habitation  road  cultivation  slash_burn  \\\n",
       "0            0      0      0           0     0            0           0   \n",
       "1            1      1      1           0     0            0           0   \n",
       "2            0      1      0           0     0            0           0   \n",
       "3            0      1      0           0     0            0           0   \n",
       "4            1      1      0           1     1            0           0   \n",
       "\n",
       "   cloudy  partly_cloudy  conventional_mine  bare_ground  artisinal_mine  \\\n",
       "0       0              0                  0            0               0   \n",
       "1       0              0                  0            0               0   \n",
       "2       0              0                  0            0               0   \n",
       "3       0              0                  0            0               0   \n",
       "4       0              0                  0            0               0   \n",
       "\n",
       "   blooming  selective_logging  blow_down  \n",
       "0         0                  0          0  \n",
       "1         0                  0          0  \n",
       "2         0                  0          0  \n",
       "3         0                  0          0  \n",
       "4         0                  0          0  "
      ]
     },
     "execution_count": 11,
     "metadata": {},
     "output_type": "execute_result"
    }
   ],
   "source": [
    "#  Applying one-hot encoding\n",
    "for l in label_list:\n",
    "    train_df[l] = train_df.tags.apply(lambda x: 1 if l in x.split() else 0)\n",
    "    \n",
    "train_df.head()"
   ]
  },
  {
   "cell_type": "code",
   "execution_count": 12,
   "id": "ac35402e",
   "metadata": {
    "execution": {
     "iopub.execute_input": "2024-06-04T22:45:04.004776Z",
     "iopub.status.busy": "2024-06-04T22:45:04.003920Z",
     "iopub.status.idle": "2024-06-04T22:45:04.027428Z",
     "shell.execute_reply": "2024-06-04T22:45:04.026435Z"
    },
    "papermill": {
     "duration": 0.033711,
     "end_time": "2024-06-04T22:45:04.029542",
     "exception": false,
     "start_time": "2024-06-04T22:45:03.995831",
     "status": "completed"
    },
    "tags": []
   },
   "outputs": [
    {
     "data": {
      "text/plain": [
       "primary              37513\n",
       "clear                28431\n",
       "agriculture          12315\n",
       "road                  8071\n",
       "water                 7411\n",
       "partly_cloudy         7261\n",
       "cultivation           4477\n",
       "habitation            3660\n",
       "haze                  2697\n",
       "cloudy                2089\n",
       "bare_ground            862\n",
       "selective_logging      340\n",
       "artisinal_mine         339\n",
       "blooming               332\n",
       "slash_burn             209\n",
       "conventional_mine      100\n",
       "blow_down               98\n",
       "dtype: int64"
      ]
     },
     "execution_count": 12,
     "metadata": {},
     "output_type": "execute_result"
    }
   ],
   "source": [
    "train_df[label_list].sum().sort_values(ascending=False)"
   ]
  },
  {
   "cell_type": "code",
   "execution_count": 13,
   "id": "7ef7203d",
   "metadata": {
    "execution": {
     "iopub.execute_input": "2024-06-04T22:45:04.045471Z",
     "iopub.status.busy": "2024-06-04T22:45:04.044738Z",
     "iopub.status.idle": "2024-06-04T22:45:04.266690Z",
     "shell.execute_reply": "2024-06-04T22:45:04.265561Z"
    },
    "papermill": {
     "duration": 0.232343,
     "end_time": "2024-06-04T22:45:04.268890",
     "exception": false,
     "start_time": "2024-06-04T22:45:04.036547",
     "status": "completed"
    },
    "tags": []
   },
   "outputs": [
    {
     "data": {
      "text/plain": [
       "60"
      ]
     },
     "execution_count": 13,
     "metadata": {},
     "output_type": "execute_result"
    }
   ],
   "source": [
    "gc.collect()"
   ]
  },
  {
   "cell_type": "code",
   "execution_count": 14,
   "id": "ee5db8b1",
   "metadata": {
    "execution": {
     "iopub.execute_input": "2024-06-04T22:45:04.284806Z",
     "iopub.status.busy": "2024-06-04T22:45:04.284441Z",
     "iopub.status.idle": "2024-06-04T22:45:04.291292Z",
     "shell.execute_reply": "2024-06-04T22:45:04.290333Z"
    },
    "papermill": {
     "duration": 0.017274,
     "end_time": "2024-06-04T22:45:04.293445",
     "exception": false,
     "start_time": "2024-06-04T22:45:04.276171",
     "status": "completed"
    },
    "tags": []
   },
   "outputs": [
    {
     "data": {
      "text/plain": [
       "['haze',\n",
       " 'primary',\n",
       " 'agriculture',\n",
       " 'clear',\n",
       " 'water',\n",
       " 'habitation',\n",
       " 'road',\n",
       " 'cultivation',\n",
       " 'slash_burn',\n",
       " 'cloudy',\n",
       " 'partly_cloudy',\n",
       " 'conventional_mine',\n",
       " 'bare_ground',\n",
       " 'artisinal_mine',\n",
       " 'blooming',\n",
       " 'selective_logging',\n",
       " 'blow_down']"
      ]
     },
     "execution_count": 14,
     "metadata": {},
     "output_type": "execute_result"
    }
   ],
   "source": [
    "train_df_columns = list(train_df.columns[2:])\n",
    "train_df_columns"
   ]
  },
  {
   "cell_type": "code",
   "execution_count": 15,
   "id": "437a5691",
   "metadata": {
    "execution": {
     "iopub.execute_input": "2024-06-04T22:45:04.309642Z",
     "iopub.status.busy": "2024-06-04T22:45:04.309291Z",
     "iopub.status.idle": "2024-06-04T22:45:04.337694Z",
     "shell.execute_reply": "2024-06-04T22:45:04.336700Z"
    },
    "papermill": {
     "duration": 0.039128,
     "end_time": "2024-06-04T22:45:04.339883",
     "exception": false,
     "start_time": "2024-06-04T22:45:04.300755",
     "status": "completed"
    },
    "tags": []
   },
   "outputs": [
    {
     "data": {
      "text/html": [
       "<div>\n",
       "<style scoped>\n",
       "    .dataframe tbody tr th:only-of-type {\n",
       "        vertical-align: middle;\n",
       "    }\n",
       "\n",
       "    .dataframe tbody tr th {\n",
       "        vertical-align: top;\n",
       "    }\n",
       "\n",
       "    .dataframe thead th {\n",
       "        text-align: right;\n",
       "    }\n",
       "</style>\n",
       "<table border=\"1\" class=\"dataframe\">\n",
       "  <thead>\n",
       "    <tr style=\"text-align: right;\">\n",
       "      <th></th>\n",
       "      <th>image_name</th>\n",
       "      <th>tags</th>\n",
       "      <th>haze</th>\n",
       "      <th>primary</th>\n",
       "      <th>agriculture</th>\n",
       "      <th>clear</th>\n",
       "      <th>water</th>\n",
       "      <th>habitation</th>\n",
       "      <th>road</th>\n",
       "      <th>cultivation</th>\n",
       "      <th>slash_burn</th>\n",
       "      <th>cloudy</th>\n",
       "      <th>partly_cloudy</th>\n",
       "      <th>conventional_mine</th>\n",
       "      <th>bare_ground</th>\n",
       "      <th>artisinal_mine</th>\n",
       "      <th>blooming</th>\n",
       "      <th>selective_logging</th>\n",
       "      <th>blow_down</th>\n",
       "    </tr>\n",
       "  </thead>\n",
       "  <tbody>\n",
       "    <tr>\n",
       "      <th>0</th>\n",
       "      <td>train_0.jpg</td>\n",
       "      <td>haze primary</td>\n",
       "      <td>1</td>\n",
       "      <td>1</td>\n",
       "      <td>0</td>\n",
       "      <td>0</td>\n",
       "      <td>0</td>\n",
       "      <td>0</td>\n",
       "      <td>0</td>\n",
       "      <td>0</td>\n",
       "      <td>0</td>\n",
       "      <td>0</td>\n",
       "      <td>0</td>\n",
       "      <td>0</td>\n",
       "      <td>0</td>\n",
       "      <td>0</td>\n",
       "      <td>0</td>\n",
       "      <td>0</td>\n",
       "      <td>0</td>\n",
       "    </tr>\n",
       "    <tr>\n",
       "      <th>1</th>\n",
       "      <td>train_1.jpg</td>\n",
       "      <td>agriculture clear primary water</td>\n",
       "      <td>0</td>\n",
       "      <td>1</td>\n",
       "      <td>1</td>\n",
       "      <td>1</td>\n",
       "      <td>1</td>\n",
       "      <td>0</td>\n",
       "      <td>0</td>\n",
       "      <td>0</td>\n",
       "      <td>0</td>\n",
       "      <td>0</td>\n",
       "      <td>0</td>\n",
       "      <td>0</td>\n",
       "      <td>0</td>\n",
       "      <td>0</td>\n",
       "      <td>0</td>\n",
       "      <td>0</td>\n",
       "      <td>0</td>\n",
       "    </tr>\n",
       "    <tr>\n",
       "      <th>2</th>\n",
       "      <td>train_2.jpg</td>\n",
       "      <td>clear primary</td>\n",
       "      <td>0</td>\n",
       "      <td>1</td>\n",
       "      <td>0</td>\n",
       "      <td>1</td>\n",
       "      <td>0</td>\n",
       "      <td>0</td>\n",
       "      <td>0</td>\n",
       "      <td>0</td>\n",
       "      <td>0</td>\n",
       "      <td>0</td>\n",
       "      <td>0</td>\n",
       "      <td>0</td>\n",
       "      <td>0</td>\n",
       "      <td>0</td>\n",
       "      <td>0</td>\n",
       "      <td>0</td>\n",
       "      <td>0</td>\n",
       "    </tr>\n",
       "    <tr>\n",
       "      <th>3</th>\n",
       "      <td>train_3.jpg</td>\n",
       "      <td>clear primary</td>\n",
       "      <td>0</td>\n",
       "      <td>1</td>\n",
       "      <td>0</td>\n",
       "      <td>1</td>\n",
       "      <td>0</td>\n",
       "      <td>0</td>\n",
       "      <td>0</td>\n",
       "      <td>0</td>\n",
       "      <td>0</td>\n",
       "      <td>0</td>\n",
       "      <td>0</td>\n",
       "      <td>0</td>\n",
       "      <td>0</td>\n",
       "      <td>0</td>\n",
       "      <td>0</td>\n",
       "      <td>0</td>\n",
       "      <td>0</td>\n",
       "    </tr>\n",
       "    <tr>\n",
       "      <th>4</th>\n",
       "      <td>train_4.jpg</td>\n",
       "      <td>agriculture clear habitation primary road</td>\n",
       "      <td>0</td>\n",
       "      <td>1</td>\n",
       "      <td>1</td>\n",
       "      <td>1</td>\n",
       "      <td>0</td>\n",
       "      <td>1</td>\n",
       "      <td>1</td>\n",
       "      <td>0</td>\n",
       "      <td>0</td>\n",
       "      <td>0</td>\n",
       "      <td>0</td>\n",
       "      <td>0</td>\n",
       "      <td>0</td>\n",
       "      <td>0</td>\n",
       "      <td>0</td>\n",
       "      <td>0</td>\n",
       "      <td>0</td>\n",
       "    </tr>\n",
       "  </tbody>\n",
       "</table>\n",
       "</div>"
      ],
      "text/plain": [
       "    image_name                                       tags  haze  primary  \\\n",
       "0  train_0.jpg                               haze primary     1        1   \n",
       "1  train_1.jpg            agriculture clear primary water     0        1   \n",
       "2  train_2.jpg                              clear primary     0        1   \n",
       "3  train_3.jpg                              clear primary     0        1   \n",
       "4  train_4.jpg  agriculture clear habitation primary road     0        1   \n",
       "\n",
       "   agriculture  clear  water  habitation  road  cultivation  slash_burn  \\\n",
       "0            0      0      0           0     0            0           0   \n",
       "1            1      1      1           0     0            0           0   \n",
       "2            0      1      0           0     0            0           0   \n",
       "3            0      1      0           0     0            0           0   \n",
       "4            1      1      0           1     1            0           0   \n",
       "\n",
       "   cloudy  partly_cloudy  conventional_mine  bare_ground  artisinal_mine  \\\n",
       "0       0              0                  0            0               0   \n",
       "1       0              0                  0            0               0   \n",
       "2       0              0                  0            0               0   \n",
       "3       0              0                  0            0               0   \n",
       "4       0              0                  0            0               0   \n",
       "\n",
       "   blooming  selective_logging  blow_down  \n",
       "0         0                  0          0  \n",
       "1         0                  0          0  \n",
       "2         0                  0          0  \n",
       "3         0                  0          0  \n",
       "4         0                  0          0  "
      ]
     },
     "execution_count": 15,
     "metadata": {},
     "output_type": "execute_result"
    }
   ],
   "source": [
    "# onehot encoding the image name\n",
    "train_df['image_name'] = train_df['image_name'].apply(lambda x: f'{x}.jpg')\n",
    "train_df.head()"
   ]
  },
  {
   "cell_type": "code",
   "execution_count": 16,
   "id": "2783bdb4",
   "metadata": {
    "execution": {
     "iopub.execute_input": "2024-06-04T22:45:04.356916Z",
     "iopub.status.busy": "2024-06-04T22:45:04.356162Z",
     "iopub.status.idle": "2024-06-04T22:46:50.644808Z",
     "shell.execute_reply": "2024-06-04T22:46:50.643861Z"
    },
    "papermill": {
     "duration": 106.299603,
     "end_time": "2024-06-04T22:46:50.647150",
     "exception": false,
     "start_time": "2024-06-04T22:45:04.347547",
     "status": "completed"
    },
    "tags": []
   },
   "outputs": [
    {
     "name": "stdout",
     "output_type": "stream",
     "text": [
      "Found 32384 validated image filenames.\n",
      "Found 8095 validated image filenames.\n"
     ]
    }
   ],
   "source": [
    "train_datagen = ImageDataGenerator(\n",
    "    rescale=1./255,\n",
    "    validation_split = 0.2,\n",
    "    rotation_range=20,\n",
    "    width_shift_range=0.2,\n",
    "    height_shift_range=0.2,\n",
    "    shear_range=0.2,\n",
    "    zoom_range=0.2,\n",
    "    horizontal_flip=True,\n",
    "    fill_mode='nearest'\n",
    ")\n",
    "\n",
    "train_generator = train_datagen.flow_from_dataframe(\n",
    "    dataframe = train_df,\n",
    "    directory = train_images,\n",
    "    x_col = 'image_name',\n",
    "    y_col = train_df_columns,\n",
    "    subset = 'training',\n",
    "    batch_size = 64,\n",
    "    seed=42,\n",
    "    shuffle=True,\n",
    "    class_mode='raw',\n",
    "    target_size = (150,150))\n",
    "\n",
    "#validation_datagen = ImageDataGenerator(rescale=1./255)\n",
    "\n",
    "#validation_generator = validation_datagen.flow_from_dataframe(dataframe = '/kaggle/input/planet-understanding-the-amazon-from-space/test_v2_file_mapping.csv',\n",
    "    #target_size=(150, 150),\n",
    "    #batch_size=32,\n",
    "    #class_mode='categorical'\n",
    "#)\n",
    "                                                              \n",
    "#generating validation data which is expected to be 20% of the train dataset since validation split is 0.2\n",
    "val_generator = train_datagen.flow_from_dataframe(\n",
    "    dataframe=train_df,\n",
    "    directory =train_images, \n",
    "    x_col='image_name',\n",
    "    y_col= train_df_columns,\n",
    "    subset='validation', \n",
    "    batch_size=32,\n",
    "    seed=42, \n",
    "    shuffle=True, \n",
    "    class_mode='raw',\n",
    "    target_size=(150,150))\n",
    "                                                              \n",
    "                                                            "
   ]
  },
  {
   "cell_type": "code",
   "execution_count": 17,
   "id": "7776426c",
   "metadata": {
    "execution": {
     "iopub.execute_input": "2024-06-04T22:46:50.664192Z",
     "iopub.status.busy": "2024-06-04T22:46:50.663816Z",
     "iopub.status.idle": "2024-06-04T22:46:50.669607Z",
     "shell.execute_reply": "2024-06-04T22:46:50.668601Z"
    },
    "papermill": {
     "duration": 0.016984,
     "end_time": "2024-06-04T22:46:50.671791",
     "exception": false,
     "start_time": "2024-06-04T22:46:50.654807",
     "status": "completed"
    },
    "tags": []
   },
   "outputs": [
    {
     "name": "stdout",
     "output_type": "stream",
     "text": [
      "506 253\n"
     ]
    }
   ],
   "source": [
    "#setting up step size for training and validation image data\n",
    "step_train_size = int(np.ceil(train_generator.samples / train_generator.batch_size))\n",
    "step_val_size = int(np.ceil(val_generator.samples / val_generator.batch_size))\n",
    "print(step_train_size , step_val_size)"
   ]
  },
  {
   "cell_type": "code",
   "execution_count": 18,
   "id": "ebe4636b",
   "metadata": {
    "execution": {
     "iopub.execute_input": "2024-06-04T22:46:50.689543Z",
     "iopub.status.busy": "2024-06-04T22:46:50.688418Z",
     "iopub.status.idle": "2024-06-04T22:46:50.806143Z",
     "shell.execute_reply": "2024-06-04T22:46:50.804823Z"
    },
    "papermill": {
     "duration": 0.129263,
     "end_time": "2024-06-04T22:46:50.808767",
     "exception": false,
     "start_time": "2024-06-04T22:46:50.679504",
     "status": "completed"
    },
    "tags": []
   },
   "outputs": [
    {
     "name": "stderr",
     "output_type": "stream",
     "text": [
      "/opt/conda/lib/python3.10/site-packages/keras/src/layers/convolutional/base_conv.py:107: UserWarning: Do not pass an `input_shape`/`input_dim` argument to a layer. When using Sequential models, prefer using an `Input(shape)` object as the first layer in the model instead.\n",
      "  super().__init__(activity_regularizer=activity_regularizer, **kwargs)\n"
     ]
    }
   ],
   "source": [
    "# Define the CNN model\n",
    "#model = Sequential([\n",
    "    #layers.Conv2D(32, (3, 3), activation='relu', input_shape=(128, 128, 3)),\n",
    "    #layers.MaxPooling2D((2, 2)),\n",
    "    #layers.Conv2D(64, (3, 3), activation='relu'),\n",
    "    #layers.MaxPooling2D((2, 2)),\n",
    "    #layers.Conv2D(128, (3, 3), activation='relu'),\n",
    "    #layers.MaxPooling2D((2, 2)),\n",
    "    #layers.Flatten(),\n",
    "    #layers.Dense(512, activation='relu'),\n",
    "    #layers.Dropout(0.5),\n",
    "    #layers.Dense (17, activation='sigmoid')\n",
    "    \n",
    "#])\n",
    "\n",
    "# Compile the model\n",
    "#model.compile(optimizer='adam',\n",
    "              #loss='binary_crossentropy',\n",
    "              #metrics=['accuracy'])\n",
    "\n",
    "# Model architecture\n",
    "#model = Sequential([\n",
    "    #Conv2D(32, (3, 3), activation='relu', input_shape=(128, 128, 3)),\n",
    "    #MaxPooling2D(2, 2),\n",
    "    #Conv2D(64, (3, 3), activation='relu'),\n",
    "    #MaxPooling2D(2, 2),\n",
    "    #Conv2D(128, (3, 3), activation='relu'),\n",
    "    #MaxPooling2D(2, 2),\n",
    "    #Flatten(),\n",
    "    #Dense(512, activation='relu'),\n",
    "    #Dropout(0.5),\n",
    "    #Dense(num_classes, activation='sigmoid')\n",
    "#])\n",
    "\n",
    "#model.compile(optimizer='adam', loss='binary_crossentropy', metrics=['accuracy'])\n",
    "#history = model.fit(train_generator, epochs=50, validation_data=val_generator)\n",
    "\n",
    "# Define the CNN model\n",
    "model = models.Sequential([\n",
    "    layers.Conv2D(32, (3, 3), activation='relu', input_shape=(32, 32, 3)),\n",
    "    layers.MaxPooling2D((2, 2)),\n",
    "    layers.Conv2D(64, (3, 3), activation='relu'),\n",
    "    layers.MaxPooling2D((2, 2)),\n",
    "    layers.Conv2D(64, (3, 3), activation='relu'),\n",
    "    layers.Flatten(),\n",
    "    layers.Dense(64, activation='relu'),\n",
    "    layers.Dense(10, activation='sigmoid')\n",
    "])\n",
    "\n",
    "# Compile the model\n",
    "model.compile(optimizer='adam',\n",
    "              loss=tf.keras.losses.SparseCategoricalCrossentropy(from_logits=True),\n",
    "              metrics=['accuracy','FBetaScore','CategoricalAccuracy'])"
   ]
  },
  {
   "cell_type": "code",
   "execution_count": null,
   "id": "9359a258",
   "metadata": {
    "execution": {
     "iopub.execute_input": "2024-06-04T20:52:02.682293Z",
     "iopub.status.busy": "2024-06-04T20:52:02.681876Z",
     "iopub.status.idle": "2024-06-04T20:52:02.743151Z",
     "shell.execute_reply": "2024-06-04T20:52:02.741417Z",
     "shell.execute_reply.started": "2024-06-04T20:52:02.682244Z"
    },
    "papermill": {
     "duration": 0.009001,
     "end_time": "2024-06-04T22:46:50.826358",
     "exception": false,
     "start_time": "2024-06-04T22:46:50.817357",
     "status": "completed"
    },
    "tags": []
   },
   "outputs": [],
   "source": []
  },
  {
   "cell_type": "code",
   "execution_count": 19,
   "id": "31c92fc5",
   "metadata": {
    "execution": {
     "iopub.execute_input": "2024-06-04T22:46:50.843662Z",
     "iopub.status.busy": "2024-06-04T22:46:50.843290Z",
     "iopub.status.idle": "2024-06-04T22:46:51.466129Z",
     "shell.execute_reply": "2024-06-04T22:46:51.464810Z"
    },
    "papermill": {
     "duration": 0.633703,
     "end_time": "2024-06-04T22:46:51.467901",
     "exception": true,
     "start_time": "2024-06-04T22:46:50.834198",
     "status": "failed"
    },
    "tags": []
   },
   "outputs": [
    {
     "ename": "TypeError",
     "evalue": "TensorFlowTrainer.fit() got an unexpected keyword argument 'steps_per_epochs'",
     "output_type": "error",
     "traceback": [
      "\u001b[0;31m---------------------------------------------------------------------------\u001b[0m",
      "\u001b[0;31mTypeError\u001b[0m                                 Traceback (most recent call last)",
      "Cell \u001b[0;32mIn[19], line 1\u001b[0m\n\u001b[0;32m----> 1\u001b[0m history \u001b[38;5;241m=\u001b[39m \u001b[43mmodel\u001b[49m\u001b[38;5;241;43m.\u001b[39;49m\u001b[43mfit\u001b[49m\u001b[43m(\u001b[49m\n\u001b[1;32m      2\u001b[0m \u001b[43m    \u001b[49m\u001b[43mx\u001b[49m\u001b[38;5;241;43m=\u001b[39;49m\u001b[43mtrain_generator\u001b[49m\u001b[43m,\u001b[49m\n\u001b[1;32m      3\u001b[0m \u001b[43m    \u001b[49m\u001b[43mvalidation_data\u001b[49m\u001b[43m \u001b[49m\u001b[38;5;241;43m=\u001b[39;49m\u001b[43m \u001b[49m\u001b[43mval_generator\u001b[49m\u001b[43m,\u001b[49m\n\u001b[1;32m      4\u001b[0m \u001b[43m    \u001b[49m\u001b[43msteps_per_epochs\u001b[49m\u001b[38;5;241;43m=\u001b[39;49m\u001b[43mstep_train_size\u001b[49m\u001b[43m,\u001b[49m\n\u001b[1;32m      5\u001b[0m \u001b[43m    \u001b[49m\u001b[43mepochs\u001b[49m\u001b[38;5;241;43m=\u001b[39;49m\u001b[38;5;241;43m10\u001b[39;49m\u001b[43m,\u001b[49m\n\u001b[1;32m      6\u001b[0m \u001b[43m    \u001b[49m\u001b[43mverbose\u001b[49m\u001b[38;5;241;43m=\u001b[39;49m\u001b[38;5;241;43m1\u001b[39;49m\n\u001b[1;32m      7\u001b[0m \u001b[43m)\u001b[49m\n",
      "File \u001b[0;32m/opt/conda/lib/python3.10/site-packages/keras/src/utils/traceback_utils.py:122\u001b[0m, in \u001b[0;36mfilter_traceback.<locals>.error_handler\u001b[0;34m(*args, **kwargs)\u001b[0m\n\u001b[1;32m    119\u001b[0m     filtered_tb \u001b[38;5;241m=\u001b[39m _process_traceback_frames(e\u001b[38;5;241m.\u001b[39m__traceback__)\n\u001b[1;32m    120\u001b[0m     \u001b[38;5;66;03m# To get the full stack trace, call:\u001b[39;00m\n\u001b[1;32m    121\u001b[0m     \u001b[38;5;66;03m# `keras.config.disable_traceback_filtering()`\u001b[39;00m\n\u001b[0;32m--> 122\u001b[0m     \u001b[38;5;28;01mraise\u001b[39;00m e\u001b[38;5;241m.\u001b[39mwith_traceback(filtered_tb) \u001b[38;5;28;01mfrom\u001b[39;00m \u001b[38;5;28;01mNone\u001b[39;00m\n\u001b[1;32m    123\u001b[0m \u001b[38;5;28;01mfinally\u001b[39;00m:\n\u001b[1;32m    124\u001b[0m     \u001b[38;5;28;01mdel\u001b[39;00m filtered_tb\n",
      "File \u001b[0;32m/opt/conda/lib/python3.10/site-packages/keras/src/utils/traceback_utils.py:117\u001b[0m, in \u001b[0;36mfilter_traceback.<locals>.error_handler\u001b[0;34m(*args, **kwargs)\u001b[0m\n\u001b[1;32m    115\u001b[0m filtered_tb \u001b[38;5;241m=\u001b[39m \u001b[38;5;28;01mNone\u001b[39;00m\n\u001b[1;32m    116\u001b[0m \u001b[38;5;28;01mtry\u001b[39;00m:\n\u001b[0;32m--> 117\u001b[0m     \u001b[38;5;28;01mreturn\u001b[39;00m fn(\u001b[38;5;241m*\u001b[39margs, \u001b[38;5;241m*\u001b[39m\u001b[38;5;241m*\u001b[39mkwargs)\n\u001b[1;32m    118\u001b[0m \u001b[38;5;28;01mexcept\u001b[39;00m \u001b[38;5;167;01mException\u001b[39;00m \u001b[38;5;28;01mas\u001b[39;00m e:\n\u001b[1;32m    119\u001b[0m     filtered_tb \u001b[38;5;241m=\u001b[39m _process_traceback_frames(e\u001b[38;5;241m.\u001b[39m__traceback__)\n",
      "\u001b[0;31mTypeError\u001b[0m: TensorFlowTrainer.fit() got an unexpected keyword argument 'steps_per_epochs'"
     ]
    }
   ],
   "source": [
    "history = model.fit(\n",
    "    x=train_generator,\n",
    "    validation_data = val_generator,\n",
    "    steps_per_epochs=step_train_size,\n",
    "    epochs=10,\n",
    "    verbose=1\n",
    ")"
   ]
  },
  {
   "cell_type": "code",
   "execution_count": null,
   "id": "7e8de964",
   "metadata": {
    "execution": {
     "iopub.execute_input": "2024-06-04T21:14:09.607136Z",
     "iopub.status.busy": "2024-06-04T21:14:09.606674Z",
     "iopub.status.idle": "2024-06-04T21:14:11.268589Z",
     "shell.execute_reply": "2024-06-04T21:14:11.266350Z",
     "shell.execute_reply.started": "2024-06-04T21:14:09.607103Z"
    },
    "papermill": {
     "duration": null,
     "end_time": null,
     "exception": null,
     "start_time": null,
     "status": "pending"
    },
    "tags": []
   },
   "outputs": [],
   "source": [
    "# Model architecture\n",
    "model = Sequential([\n",
    "    Conv2D(32, (3, 3), activation='relu', input_shape=(128, 128, 3)),\n",
    "    MaxPooling2D(2, 2),\n",
    "    Conv2D(64, (3, 3), activation='relu'),\n",
    "    MaxPooling2D(2, 2),\n",
    "    Conv2D(128, (3, 3), activation='relu'),\n",
    "    MaxPooling2D(2, 2),\n",
    "    Flatten(),\n",
    "    Dense(512, activation='relu'),\n",
    "    Dropout(0.5),\n",
    "    Dense(17, activation='sigmoid')\n",
    "])\n",
    "\n",
    "model.compile(optimizer='adam', loss='binary_crossentropy', metrics=['accuracy'])\n",
    "history = model.fit(train_generator, epochs=10, validation_data=val_generator)"
   ]
  },
  {
   "cell_type": "code",
   "execution_count": null,
   "id": "90bf6fb9",
   "metadata": {
    "execution": {
     "iopub.execute_input": "2024-06-04T21:26:46.363578Z",
     "iopub.status.busy": "2024-06-04T21:26:46.363127Z",
     "iopub.status.idle": "2024-06-04T21:26:48.311202Z",
     "shell.execute_reply": "2024-06-04T21:26:48.309648Z",
     "shell.execute_reply.started": "2024-06-04T21:26:46.363546Z"
    },
    "papermill": {
     "duration": null,
     "end_time": null,
     "exception": null,
     "start_time": null,
     "status": "pending"
    },
    "tags": []
   },
   "outputs": [],
   "source": []
  }
 ],
 "metadata": {
  "kaggle": {
   "accelerator": "none",
   "dataSources": [
    {
     "databundleVersionId": 868312,
     "sourceId": 6322,
     "sourceType": "competition"
    },
    {
     "datasetId": 503255,
     "sourceId": 938046,
     "sourceType": "datasetVersion"
    }
   ],
   "dockerImageVersionId": 30715,
   "isGpuEnabled": false,
   "isInternetEnabled": true,
   "language": "python",
   "sourceType": "notebook"
  },
  "kernelspec": {
   "display_name": "Python 3",
   "language": "python",
   "name": "python3"
  },
  "language_info": {
   "codemirror_mode": {
    "name": "ipython",
    "version": 3
   },
   "file_extension": ".py",
   "mimetype": "text/x-python",
   "name": "python",
   "nbconvert_exporter": "python",
   "pygments_lexer": "ipython3",
   "version": "3.10.13"
  },
  "papermill": {
   "default_parameters": {},
   "duration": 128.502584,
   "end_time": "2024-06-04T22:46:53.101007",
   "environment_variables": {},
   "exception": true,
   "input_path": "__notebook__.ipynb",
   "output_path": "__notebook__.ipynb",
   "parameters": {},
   "start_time": "2024-06-04T22:44:44.598423",
   "version": "2.5.0"
  }
 },
 "nbformat": 4,
 "nbformat_minor": 5
}
